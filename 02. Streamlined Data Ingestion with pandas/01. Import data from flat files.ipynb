{
 "cells": [
  {
   "cell_type": "markdown",
   "id": "c4022af8-74ff-423e-b61e-5d896e49fc0f",
   "metadata": {},
   "source": [
    "## **Librerias**"
   ]
  },
  {
   "cell_type": "code",
   "execution_count": 1,
   "id": "26bc45be-03cc-4f01-b1de-cfb3658595d5",
   "metadata": {},
   "outputs": [],
   "source": [
    "import pandas as pd"
   ]
  },
  {
   "cell_type": "markdown",
   "id": "ff8dfbd6-d2c5-43ee-932b-f22529629eb9",
   "metadata": {},
   "source": [
    "## **Datos**"
   ]
  },
  {
   "cell_type": "code",
   "execution_count": 2,
   "id": "3de3ab90-2bd4-4de9-8949-74a9d906a32b",
   "metadata": {},
   "outputs": [],
   "source": [
    "tax_data = pd.read_csv('https://assets.datacamp.com/production/repositories/4412/datasets/61bb27bf939aac4344d4f446ce6da1d1bf534174/vt_tax_data_2016.csv')"
   ]
  },
  {
   "cell_type": "code",
   "execution_count": 3,
   "id": "8ed04aae-9815-469a-a448-4cc383086cfa",
   "metadata": {},
   "outputs": [
    {
     "data": {
      "text/plain": [
       "(1476, 147)"
      ]
     },
     "execution_count": 3,
     "metadata": {},
     "output_type": "execute_result"
    }
   ],
   "source": [
    "tax_data.shape"
   ]
  },
  {
   "cell_type": "markdown",
   "id": "a8a73a68-e726-4eaf-863a-a8ef0bfdbffb",
   "metadata": {},
   "source": [
    "### **1. Limitando el número de columnas**"
   ]
  },
  {
   "cell_type": "code",
   "execution_count": 4,
   "id": "653658d4-9105-4f62-a03e-d39f536f7303",
   "metadata": {},
   "outputs": [],
   "source": [
    "col_names = ['STATEFIPS', 'STATE', 'zipcode', 'agi_stub', 'N1']\n",
    "col_numbers = [0, 1, 2, 3, 4]"
   ]
  },
  {
   "cell_type": "code",
   "execution_count": 5,
   "id": "dd7117a7-cb0d-4d11-b9e4-19b8c5f70e8e",
   "metadata": {},
   "outputs": [],
   "source": [
    "tax_data_v1 = pd.read_csv(\n",
    "    'https://assets.datacamp.com/production/repositories/4412/datasets/61bb27bf939aac4344d4f446ce6da1d1bf534174/vt_tax_data_2016.csv',\n",
    "    usecols=col_names\n",
    ")"
   ]
  },
  {
   "cell_type": "code",
   "execution_count": 6,
   "id": "51b3d0b0-c572-4d07-b1fe-9fda13f7ff8c",
   "metadata": {},
   "outputs": [],
   "source": [
    "tax_data_v2 = pd.read_csv(\n",
    "    'https://assets.datacamp.com/production/repositories/4412/datasets/61bb27bf939aac4344d4f446ce6da1d1bf534174/vt_tax_data_2016.csv',\n",
    "    usecols=col_numbers\n",
    ")"
   ]
  },
  {
   "cell_type": "code",
   "execution_count": 7,
   "id": "3a630757-bb4e-43d8-ad93-f71041019927",
   "metadata": {},
   "outputs": [
    {
     "data": {
      "text/plain": [
       "True"
      ]
     },
     "execution_count": 7,
     "metadata": {},
     "output_type": "execute_result"
    }
   ],
   "source": [
    "tax_data_v1.equals(tax_data_v2)"
   ]
  },
  {
   "cell_type": "markdown",
   "id": "4a31f5b0-58c9-4ca2-9f7a-0bb030288927",
   "metadata": {},
   "source": [
    "### **2. Limitando el número de filas**"
   ]
  },
  {
   "cell_type": "code",
   "execution_count": 8,
   "id": "57900e11-b5ab-46aa-ada2-03f87bead92c",
   "metadata": {},
   "outputs": [],
   "source": [
    "tax_data_v3 = pd.read_csv(\n",
    "    'https://assets.datacamp.com/production/repositories/4412/datasets/61bb27bf939aac4344d4f446ce6da1d1bf534174/vt_tax_data_2016.csv',\n",
    "    nrows=100\n",
    ")"
   ]
  },
  {
   "cell_type": "code",
   "execution_count": 9,
   "id": "5d78eb6a-3812-4dd4-b317-893d9fd4b1e6",
   "metadata": {},
   "outputs": [
    {
     "data": {
      "text/plain": [
       "(100, 147)"
      ]
     },
     "execution_count": 9,
     "metadata": {},
     "output_type": "execute_result"
    }
   ],
   "source": [
    "tax_data_v3.shape"
   ]
  },
  {
   "cell_type": "code",
   "execution_count": 10,
   "id": "0b6b5c06-4664-4d08-90ef-357a5200cf80",
   "metadata": {},
   "outputs": [
    {
     "data": {
      "text/html": [
       "<div>\n",
       "<style scoped>\n",
       "    .dataframe tbody tr th:only-of-type {\n",
       "        vertical-align: middle;\n",
       "    }\n",
       "\n",
       "    .dataframe tbody tr th {\n",
       "        vertical-align: top;\n",
       "    }\n",
       "\n",
       "    .dataframe thead th {\n",
       "        text-align: right;\n",
       "    }\n",
       "</style>\n",
       "<table border=\"1\" class=\"dataframe\">\n",
       "  <thead>\n",
       "    <tr style=\"text-align: right;\">\n",
       "      <th></th>\n",
       "      <th>0</th>\n",
       "      <th>1</th>\n",
       "      <th>2</th>\n",
       "      <th>3</th>\n",
       "      <th>4</th>\n",
       "      <th>5</th>\n",
       "      <th>6</th>\n",
       "      <th>7</th>\n",
       "      <th>8</th>\n",
       "      <th>9</th>\n",
       "      <th>...</th>\n",
       "      <th>137</th>\n",
       "      <th>138</th>\n",
       "      <th>139</th>\n",
       "      <th>140</th>\n",
       "      <th>141</th>\n",
       "      <th>142</th>\n",
       "      <th>143</th>\n",
       "      <th>144</th>\n",
       "      <th>145</th>\n",
       "      <th>146</th>\n",
       "    </tr>\n",
       "  </thead>\n",
       "  <tbody>\n",
       "    <tr>\n",
       "      <th>0</th>\n",
       "      <td>50</td>\n",
       "      <td>VT</td>\n",
       "      <td>5037</td>\n",
       "      <td>2</td>\n",
       "      <td>100</td>\n",
       "      <td>60</td>\n",
       "      <td>20</td>\n",
       "      <td>40</td>\n",
       "      <td>50</td>\n",
       "      <td>160</td>\n",
       "      <td>...</td>\n",
       "      <td>90</td>\n",
       "      <td>336</td>\n",
       "      <td>0</td>\n",
       "      <td>0</td>\n",
       "      <td>0</td>\n",
       "      <td>0</td>\n",
       "      <td>0</td>\n",
       "      <td>0</td>\n",
       "      <td>80</td>\n",
       "      <td>151</td>\n",
       "    </tr>\n",
       "    <tr>\n",
       "      <th>1</th>\n",
       "      <td>50</td>\n",
       "      <td>VT</td>\n",
       "      <td>5037</td>\n",
       "      <td>3</td>\n",
       "      <td>70</td>\n",
       "      <td>30</td>\n",
       "      <td>30</td>\n",
       "      <td>0</td>\n",
       "      <td>30</td>\n",
       "      <td>120</td>\n",
       "      <td>...</td>\n",
       "      <td>60</td>\n",
       "      <td>349</td>\n",
       "      <td>0</td>\n",
       "      <td>0</td>\n",
       "      <td>0</td>\n",
       "      <td>0</td>\n",
       "      <td>20</td>\n",
       "      <td>53</td>\n",
       "      <td>50</td>\n",
       "      <td>137</td>\n",
       "    </tr>\n",
       "  </tbody>\n",
       "</table>\n",
       "<p>2 rows × 147 columns</p>\n",
       "</div>"
      ],
      "text/plain": [
       "   0   1     2    3    4    5    6    7    8    9    ...  137  138  139  140  \\\n",
       "0   50  VT  5037    2  100   60   20   40   50  160  ...   90  336    0    0   \n",
       "1   50  VT  5037    3   70   30   30    0   30  120  ...   60  349    0    0   \n",
       "\n",
       "   141  142  143  144  145  146  \n",
       "0    0    0    0    0   80  151  \n",
       "1    0    0   20   53   50  137  \n",
       "\n",
       "[2 rows x 147 columns]"
      ]
     },
     "execution_count": 10,
     "metadata": {},
     "output_type": "execute_result"
    }
   ],
   "source": [
    "tax_data_v4 = pd.read_csv(\n",
    "    'https://assets.datacamp.com/production/repositories/4412/datasets/61bb27bf939aac4344d4f446ce6da1d1bf534174/vt_tax_data_2016.csv',\n",
    "    nrows=100,\n",
    "    skiprows=50,\n",
    "    header=None\n",
    ")\n",
    "\n",
    "tax_data_v4.head(2)"
   ]
  },
  {
   "cell_type": "markdown",
   "id": "1d0d9684-842f-400a-a7e0-dcc57d37e1ac",
   "metadata": {},
   "source": [
    "### **3. Ajustando el encabezado de la tabla**"
   ]
  },
  {
   "cell_type": "code",
   "execution_count": 11,
   "id": "46472e06-3fc4-44c3-9e39-74d3ef708c97",
   "metadata": {},
   "outputs": [
    {
     "data": {
      "text/html": [
       "<div>\n",
       "<style scoped>\n",
       "    .dataframe tbody tr th:only-of-type {\n",
       "        vertical-align: middle;\n",
       "    }\n",
       "\n",
       "    .dataframe tbody tr th {\n",
       "        vertical-align: top;\n",
       "    }\n",
       "\n",
       "    .dataframe thead th {\n",
       "        text-align: right;\n",
       "    }\n",
       "</style>\n",
       "<table border=\"1\" class=\"dataframe\">\n",
       "  <thead>\n",
       "    <tr style=\"text-align: right;\">\n",
       "      <th></th>\n",
       "      <th>STATEFIPS</th>\n",
       "      <th>STATE</th>\n",
       "      <th>zipcode</th>\n",
       "      <th>agi_stub</th>\n",
       "      <th>N1</th>\n",
       "      <th>mars1</th>\n",
       "      <th>MARS2</th>\n",
       "      <th>MARS4</th>\n",
       "      <th>PREP</th>\n",
       "      <th>N2</th>\n",
       "      <th>...</th>\n",
       "      <th>N10300</th>\n",
       "      <th>A10300</th>\n",
       "      <th>N85530</th>\n",
       "      <th>A85530</th>\n",
       "      <th>N85300</th>\n",
       "      <th>A85300</th>\n",
       "      <th>N11901</th>\n",
       "      <th>A11901</th>\n",
       "      <th>N11902</th>\n",
       "      <th>A11902</th>\n",
       "    </tr>\n",
       "  </thead>\n",
       "  <tbody>\n",
       "    <tr>\n",
       "      <th>0</th>\n",
       "      <td>50</td>\n",
       "      <td>VT</td>\n",
       "      <td>5037</td>\n",
       "      <td>2</td>\n",
       "      <td>100</td>\n",
       "      <td>60</td>\n",
       "      <td>20</td>\n",
       "      <td>40</td>\n",
       "      <td>50</td>\n",
       "      <td>160</td>\n",
       "      <td>...</td>\n",
       "      <td>90</td>\n",
       "      <td>336</td>\n",
       "      <td>0</td>\n",
       "      <td>0</td>\n",
       "      <td>0</td>\n",
       "      <td>0</td>\n",
       "      <td>0</td>\n",
       "      <td>0</td>\n",
       "      <td>80</td>\n",
       "      <td>151</td>\n",
       "    </tr>\n",
       "    <tr>\n",
       "      <th>1</th>\n",
       "      <td>50</td>\n",
       "      <td>VT</td>\n",
       "      <td>5037</td>\n",
       "      <td>3</td>\n",
       "      <td>70</td>\n",
       "      <td>30</td>\n",
       "      <td>30</td>\n",
       "      <td>0</td>\n",
       "      <td>30</td>\n",
       "      <td>120</td>\n",
       "      <td>...</td>\n",
       "      <td>60</td>\n",
       "      <td>349</td>\n",
       "      <td>0</td>\n",
       "      <td>0</td>\n",
       "      <td>0</td>\n",
       "      <td>0</td>\n",
       "      <td>20</td>\n",
       "      <td>53</td>\n",
       "      <td>50</td>\n",
       "      <td>137</td>\n",
       "    </tr>\n",
       "  </tbody>\n",
       "</table>\n",
       "<p>2 rows × 147 columns</p>\n",
       "</div>"
      ],
      "text/plain": [
       "   STATEFIPS STATE  zipcode  agi_stub   N1  mars1  MARS2  MARS4  PREP   N2  \\\n",
       "0         50    VT     5037         2  100     60     20     40    50  160   \n",
       "1         50    VT     5037         3   70     30     30      0    30  120   \n",
       "\n",
       "   ...  N10300  A10300  N85530  A85530  N85300  A85300  N11901  A11901  \\\n",
       "0  ...      90     336       0       0       0       0       0       0   \n",
       "1  ...      60     349       0       0       0       0      20      53   \n",
       "\n",
       "   N11902  A11902  \n",
       "0      80     151  \n",
       "1      50     137  \n",
       "\n",
       "[2 rows x 147 columns]"
      ]
     },
     "execution_count": 11,
     "metadata": {},
     "output_type": "execute_result"
    }
   ],
   "source": [
    "col_names = list(tax_data)\n",
    "\n",
    "tax_data_v5 = pd.read_csv(\n",
    "    'https://assets.datacamp.com/production/repositories/4412/datasets/61bb27bf939aac4344d4f446ce6da1d1bf534174/vt_tax_data_2016.csv',\n",
    "    nrows=100,\n",
    "    skiprows=50,\n",
    "    header=None,\n",
    "    names=col_names\n",
    ")\n",
    "\n",
    "tax_data_v5.head(2)"
   ]
  },
  {
   "cell_type": "markdown",
   "id": "08600196-79de-45bc-92b1-d1c208187f6b",
   "metadata": {},
   "source": [
    "### **4. Ajustando el tipo de los datos**"
   ]
  },
  {
   "cell_type": "code",
   "execution_count": 14,
   "id": "bcb290b7-6e08-4a48-930a-0e33e6a99d8d",
   "metadata": {},
   "outputs": [
    {
     "name": "stdout",
     "output_type": "stream",
     "text": [
      "<class 'pandas.core.frame.DataFrame'>\n",
      "RangeIndex: 1476 entries, 0 to 1475\n",
      "Data columns (total 5 columns):\n",
      " #   Column     Non-Null Count  Dtype \n",
      "---  ------     --------------  ----- \n",
      " 0   STATEFIPS  1476 non-null   int64 \n",
      " 1   STATE      1476 non-null   object\n",
      " 2   zipcode    1476 non-null   int64 \n",
      " 3   agi_stub   1476 non-null   int64 \n",
      " 4   N1         1476 non-null   int64 \n",
      "dtypes: int64(4), object(1)\n",
      "memory usage: 57.8+ KB\n"
     ]
    }
   ],
   "source": [
    "tax_data_v1.info()"
   ]
  },
  {
   "cell_type": "code",
   "execution_count": 17,
   "id": "dabfce3d-7c93-488d-b21d-5e5dffbb2612",
   "metadata": {},
   "outputs": [],
   "source": [
    "col_names = ['STATEFIPS', 'STATE', 'zipcode', 'agi_stub', 'N1']\n",
    "\n",
    "tax_data_v6 = pd.read_csv(\n",
    "    'https://assets.datacamp.com/production/repositories/4412/datasets/61bb27bf939aac4344d4f446ce6da1d1bf534174/vt_tax_data_2016.csv',\n",
    "    usecols=col_names,\n",
    "    dtype={\n",
    "        'zipcode': str\n",
    "    }\n",
    ")"
   ]
  },
  {
   "cell_type": "code",
   "execution_count": 18,
   "id": "d25803c8-1362-437d-ba66-43ddecb33047",
   "metadata": {},
   "outputs": [
    {
     "name": "stdout",
     "output_type": "stream",
     "text": [
      "<class 'pandas.core.frame.DataFrame'>\n",
      "RangeIndex: 1476 entries, 0 to 1475\n",
      "Data columns (total 5 columns):\n",
      " #   Column     Non-Null Count  Dtype \n",
      "---  ------     --------------  ----- \n",
      " 0   STATEFIPS  1476 non-null   int64 \n",
      " 1   STATE      1476 non-null   object\n",
      " 2   zipcode    1476 non-null   object\n",
      " 3   agi_stub   1476 non-null   int64 \n",
      " 4   N1         1476 non-null   int64 \n",
      "dtypes: int64(3), object(2)\n",
      "memory usage: 57.8+ KB\n"
     ]
    }
   ],
   "source": [
    "tax_data_v6.info()"
   ]
  },
  {
   "cell_type": "markdown",
   "id": "51ac2cf8-083c-4cb1-98f8-dc020bf4e068",
   "metadata": {},
   "source": [
    "### **5. Personalizar los valores faltantes**"
   ]
  },
  {
   "cell_type": "code",
   "execution_count": 26,
   "id": "41ee9319-a245-4d1a-9379-cc11bc0c476f",
   "metadata": {},
   "outputs": [
    {
     "data": {
      "text/html": [
       "<div>\n",
       "<style scoped>\n",
       "    .dataframe tbody tr th:only-of-type {\n",
       "        vertical-align: middle;\n",
       "    }\n",
       "\n",
       "    .dataframe tbody tr th {\n",
       "        vertical-align: top;\n",
       "    }\n",
       "\n",
       "    .dataframe thead th {\n",
       "        text-align: right;\n",
       "    }\n",
       "</style>\n",
       "<table border=\"1\" class=\"dataframe\">\n",
       "  <thead>\n",
       "    <tr style=\"text-align: right;\">\n",
       "      <th></th>\n",
       "      <th>STATEFIPS</th>\n",
       "      <th>STATE</th>\n",
       "      <th>zipcode</th>\n",
       "      <th>agi_stub</th>\n",
       "      <th>N1</th>\n",
       "    </tr>\n",
       "  </thead>\n",
       "  <tbody>\n",
       "  </tbody>\n",
       "</table>\n",
       "</div>"
      ],
      "text/plain": [
       "Empty DataFrame\n",
       "Columns: [STATEFIPS, STATE, zipcode, agi_stub, N1]\n",
       "Index: []"
      ]
     },
     "execution_count": 26,
     "metadata": {},
     "output_type": "execute_result"
    }
   ],
   "source": [
    "tax_data_v6[tax_data_v6['zipcode'].isna()]"
   ]
  },
  {
   "cell_type": "code",
   "execution_count": 20,
   "id": "56fa62f5-7bb2-4338-943a-b5306ccd8e20",
   "metadata": {},
   "outputs": [],
   "source": [
    "col_names = ['STATEFIPS', 'STATE', 'zipcode', 'agi_stub', 'N1']\n",
    "\n",
    "tax_data_v7 = pd.read_csv(\n",
    "    'https://assets.datacamp.com/production/repositories/4412/datasets/61bb27bf939aac4344d4f446ce6da1d1bf534174/vt_tax_data_2016.csv',\n",
    "    usecols = col_names,\n",
    "    na_values={\n",
    "        'zipcode':0\n",
    "    }\n",
    ")"
   ]
  },
  {
   "cell_type": "code",
   "execution_count": 27,
   "id": "96c16915-8826-4533-aea7-735fa4c2d3ec",
   "metadata": {},
   "outputs": [
    {
     "data": {
      "text/html": [
       "<div>\n",
       "<style scoped>\n",
       "    .dataframe tbody tr th:only-of-type {\n",
       "        vertical-align: middle;\n",
       "    }\n",
       "\n",
       "    .dataframe tbody tr th {\n",
       "        vertical-align: top;\n",
       "    }\n",
       "\n",
       "    .dataframe thead th {\n",
       "        text-align: right;\n",
       "    }\n",
       "</style>\n",
       "<table border=\"1\" class=\"dataframe\">\n",
       "  <thead>\n",
       "    <tr style=\"text-align: right;\">\n",
       "      <th></th>\n",
       "      <th>STATEFIPS</th>\n",
       "      <th>STATE</th>\n",
       "      <th>zipcode</th>\n",
       "      <th>agi_stub</th>\n",
       "      <th>N1</th>\n",
       "    </tr>\n",
       "  </thead>\n",
       "  <tbody>\n",
       "    <tr>\n",
       "      <th>0</th>\n",
       "      <td>50</td>\n",
       "      <td>VT</td>\n",
       "      <td>NaN</td>\n",
       "      <td>1</td>\n",
       "      <td>111580</td>\n",
       "    </tr>\n",
       "    <tr>\n",
       "      <th>1</th>\n",
       "      <td>50</td>\n",
       "      <td>VT</td>\n",
       "      <td>NaN</td>\n",
       "      <td>2</td>\n",
       "      <td>82760</td>\n",
       "    </tr>\n",
       "    <tr>\n",
       "      <th>2</th>\n",
       "      <td>50</td>\n",
       "      <td>VT</td>\n",
       "      <td>NaN</td>\n",
       "      <td>3</td>\n",
       "      <td>46270</td>\n",
       "    </tr>\n",
       "    <tr>\n",
       "      <th>3</th>\n",
       "      <td>50</td>\n",
       "      <td>VT</td>\n",
       "      <td>NaN</td>\n",
       "      <td>4</td>\n",
       "      <td>30070</td>\n",
       "    </tr>\n",
       "    <tr>\n",
       "      <th>4</th>\n",
       "      <td>50</td>\n",
       "      <td>VT</td>\n",
       "      <td>NaN</td>\n",
       "      <td>5</td>\n",
       "      <td>39530</td>\n",
       "    </tr>\n",
       "    <tr>\n",
       "      <th>5</th>\n",
       "      <td>50</td>\n",
       "      <td>VT</td>\n",
       "      <td>NaN</td>\n",
       "      <td>6</td>\n",
       "      <td>9620</td>\n",
       "    </tr>\n",
       "  </tbody>\n",
       "</table>\n",
       "</div>"
      ],
      "text/plain": [
       "   STATEFIPS STATE  zipcode  agi_stub      N1\n",
       "0         50    VT      NaN         1  111580\n",
       "1         50    VT      NaN         2   82760\n",
       "2         50    VT      NaN         3   46270\n",
       "3         50    VT      NaN         4   30070\n",
       "4         50    VT      NaN         5   39530\n",
       "5         50    VT      NaN         6    9620"
      ]
     },
     "execution_count": 27,
     "metadata": {},
     "output_type": "execute_result"
    }
   ],
   "source": [
    "tax_data_v7[tax_data_v7['zipcode'].isna()]"
   ]
  },
  {
   "cell_type": "markdown",
   "id": "5e346235-b386-4c1e-9dbb-73b510a86b73",
   "metadata": {},
   "source": [
    "### **6. Manejando registros con errores**"
   ]
  },
  {
   "cell_type": "code",
   "execution_count": 36,
   "id": "7c1cb2c6-41aa-4841-95ea-186a30e54fb4",
   "metadata": {},
   "outputs": [],
   "source": [
    "tax_data_v8 = pd.read_csv(\n",
    "    'https://assets.datacamp.com/production/repositories/4412/datasets/61bb27bf939aac4344d4f446ce6da1d1bf534174/vt_tax_data_2016.csv',\n",
    "    on_bad_lines='warn'\n",
    "    # Puede tomar los valores skip, warn y error     \n",
    ")"
   ]
  }
 ],
 "metadata": {
  "kernelspec": {
   "display_name": "Python 3 (ipykernel)",
   "language": "python",
   "name": "python3"
  },
  "language_info": {
   "codemirror_mode": {
    "name": "ipython",
    "version": 3
   },
   "file_extension": ".py",
   "mimetype": "text/x-python",
   "name": "python",
   "nbconvert_exporter": "python",
   "pygments_lexer": "ipython3",
   "version": "3.8.12"
  }
 },
 "nbformat": 4,
 "nbformat_minor": 5
}
