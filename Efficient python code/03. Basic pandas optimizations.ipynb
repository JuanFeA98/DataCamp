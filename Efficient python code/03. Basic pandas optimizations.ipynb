{
 "cells": [
  {
   "cell_type": "markdown",
   "id": "6ae42a1a-595e-48eb-8afe-5c9b2242f985",
   "metadata": {},
   "source": [
    "## **Librerias**"
   ]
  },
  {
   "cell_type": "code",
   "execution_count": 1,
   "id": "a29a1102-6636-4c86-bc8f-e37a50456d8b",
   "metadata": {},
   "outputs": [],
   "source": [
    "import pandas as pd\n",
    "import numpy as np"
   ]
  },
  {
   "cell_type": "code",
   "execution_count": 2,
   "id": "4b236ca4-2681-4305-a10c-1fbc7a8d4b5b",
   "metadata": {},
   "outputs": [],
   "source": [
    "pd.options.display.max_columns = False"
   ]
  },
  {
   "cell_type": "code",
   "execution_count": 3,
   "id": "1f83d0ad-ef70-4e75-855a-9bc464ee67c6",
   "metadata": {},
   "outputs": [],
   "source": [
    "from datetime import datetime, timedelta\n",
    "import winsound"
   ]
  },
  {
   "cell_type": "markdown",
   "id": "05830492-ea96-481e-810a-9159cf9ee22c",
   "metadata": {},
   "source": [
    "## **Datos**"
   ]
  },
  {
   "cell_type": "code",
   "execution_count": 38,
   "id": "4ef90f44-beb6-4fdb-9245-a4ce8fd2bcb0",
   "metadata": {},
   "outputs": [],
   "source": [
    "df = pd.read_csv('https://assets.datacamp.com/production/repositories/3581/datasets/779033fb8fb5021aee9ff46253980abcbc5851f3/baseball_stats.csv')"
   ]
  },
  {
   "cell_type": "markdown",
   "id": "f7085843-4d4f-4f63-b870-647b096582b1",
   "metadata": {},
   "source": [
    "### **Calculating with Percentage**"
   ]
  },
  {
   "cell_type": "code",
   "execution_count": 13,
   "id": "dca32f77-dafa-494c-831b-8074f18c6d54",
   "metadata": {},
   "outputs": [],
   "source": [
    "def calc_win_perc(wins, games_played):\n",
    "    win_perc = wins/games_played\n",
    "    return np.round(win_perc, 2)"
   ]
  },
  {
   "cell_type": "code",
   "execution_count": 54,
   "id": "dc8ba4c6-2118-4ea3-890d-e5c65f60ae4c",
   "metadata": {},
   "outputs": [
    {
     "name": "stdout",
     "output_type": "stream",
     "text": [
      "39 ms ± 2.3 ms per loop (mean ± std. dev. of 7 runs, 10 loops each)\n"
     ]
    }
   ],
   "source": [
    "%%timeit\n",
    "df['W_Rate'] = df.apply(lambda x: round(x['W']/x['G'], 2), axis=1)"
   ]
  },
  {
   "cell_type": "code",
   "execution_count": 55,
   "id": "72ab441d-c2f6-4a90-bafd-ab1d49086d5b",
   "metadata": {},
   "outputs": [
    {
     "name": "stdout",
     "output_type": "stream",
     "text": [
      "179 ms ± 9.59 ms per loop (mean ± std. dev. of 7 runs, 10 loops each)\n"
     ]
    }
   ],
   "source": [
    "%%timeit\n",
    "win_perc_list = []\n",
    "\n",
    "for i, row in df.iterrows():\n",
    "    wins = row['W']\n",
    "    games = row['G']\n",
    "    \n",
    "    win_perc = calc_win_perc(wins, games)\n",
    "    win_perc_list.append(win_perc)\n",
    "    \n",
    "df['W_Rate'] = win_perc_list"
   ]
  },
  {
   "cell_type": "code",
   "execution_count": null,
   "id": "de60201d-3dc2-4e3b-87e5-286c23e1cb3c",
   "metadata": {},
   "outputs": [],
   "source": []
  },
  {
   "cell_type": "code",
   "execution_count": null,
   "id": "77bf8306-4a7c-4a5f-963e-4a47471fc6a8",
   "metadata": {},
   "outputs": [],
   "source": []
  }
 ],
 "metadata": {
  "kernelspec": {
   "display_name": "Python 3 (ipykernel)",
   "language": "python",
   "name": "python3"
  },
  "language_info": {
   "codemirror_mode": {
    "name": "ipython",
    "version": 3
   },
   "file_extension": ".py",
   "mimetype": "text/x-python",
   "name": "python",
   "nbconvert_exporter": "python",
   "pygments_lexer": "ipython3",
   "version": "3.8.12"
  }
 },
 "nbformat": 4,
 "nbformat_minor": 5
}
