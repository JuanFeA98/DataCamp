{
 "cells": [
  {
   "cell_type": "markdown",
   "id": "df1c16c3-66d9-4e76-a568-bd61790757f2",
   "metadata": {},
   "source": [
    "## **Librerias**"
   ]
  },
  {
   "cell_type": "code",
   "execution_count": 1,
   "id": "777c269a-ec04-4398-9f98-56e3e7bc0ac0",
   "metadata": {},
   "outputs": [],
   "source": [
    "import pandas as pd\n",
    "import numpy as np"
   ]
  },
  {
   "cell_type": "code",
   "execution_count": 2,
   "id": "e499d0cf-46d3-47d6-a8d8-f753d264ea2a",
   "metadata": {},
   "outputs": [],
   "source": [
    "pd.options.display.max_columns = False"
   ]
  },
  {
   "cell_type": "code",
   "execution_count": 47,
   "id": "6a2afa7f-ff71-408c-8b71-666d2e7c1651",
   "metadata": {},
   "outputs": [],
   "source": [
    "from collections import Counter\n",
    "from itertools import combinations"
   ]
  },
  {
   "cell_type": "markdown",
   "id": "e3a58cf4-9aaa-44ed-813b-384ff0fc1c60",
   "metadata": {},
   "source": [
    "## **Datos**"
   ]
  },
  {
   "cell_type": "markdown",
   "id": "0025c5df-12c6-4d81-9aca-eb8cea7a7d00",
   "metadata": {},
   "source": [
    "### **Combining Objects**"
   ]
  },
  {
   "cell_type": "code",
   "execution_count": 3,
   "id": "05fdf5d6-f7f5-4a18-a4fe-2ad2fd006121",
   "metadata": {},
   "outputs": [],
   "source": [
    "names = ['Bulbasaur', 'Charmander', 'Squirtle']\n",
    "hps = [45, 39, 44]"
   ]
  },
  {
   "cell_type": "code",
   "execution_count": 13,
   "id": "15c15d3c-ab79-486d-b568-45180cfd11a4",
   "metadata": {},
   "outputs": [
    {
     "data": {
      "text/plain": [
       "[('Bulbasaur', 45), ('Charmander', 39), ('Squirtle', 44)]"
      ]
     },
     "execution_count": 13,
     "metadata": {},
     "output_type": "execute_result"
    }
   ],
   "source": [
    "combined = []\n",
    "\n",
    "for i, pokemon in enumerate(names):\n",
    "    combined.append((pokemon, hps[i]))\n",
    "\n",
    "combined"
   ]
  },
  {
   "cell_type": "code",
   "execution_count": 15,
   "id": "28f69e35-3385-4c76-a70e-5b9b77825402",
   "metadata": {},
   "outputs": [
    {
     "data": {
      "text/plain": [
       "[('Bulbasaur', 45), ('Charmander', 39), ('Squirtle', 44)]"
      ]
     },
     "execution_count": 15,
     "metadata": {},
     "output_type": "execute_result"
    }
   ],
   "source": [
    "combined_zip = zip(names, hps)\n",
    "combined_zip_list = [*combined_zip]\n",
    "combined_zip_list"
   ]
  },
  {
   "cell_type": "markdown",
   "id": "5961a8d8-9f8b-4ba5-aa06-38e1cbb48bd9",
   "metadata": {},
   "source": [
    "### **Counting with loop**"
   ]
  },
  {
   "cell_type": "code",
   "execution_count": 33,
   "id": "71cf0eaf-05cf-4eaf-9432-5599d68769b7",
   "metadata": {},
   "outputs": [
    {
     "data": {
      "text/plain": [
       "{'Grass': 3, 'Fire': 1, 'Water': 2}"
      ]
     },
     "execution_count": 33,
     "metadata": {},
     "output_type": "execute_result"
    }
   ],
   "source": [
    "poke_types = ['Grass', 'Fire', 'Water', 'Grass', 'Grass', 'Water']\n",
    "type_counts = {}\n",
    "\n",
    "for i in poke_types:\n",
    "    if i not in type_counts:\n",
    "        type_counts[i] = 1\n",
    "    else:\n",
    "        type_counts[i] += 1\n",
    "        \n",
    "type_counts"
   ]
  },
  {
   "cell_type": "code",
   "execution_count": 36,
   "id": "7450c608-02a2-4784-bd23-9fa613080fb6",
   "metadata": {},
   "outputs": [
    {
     "data": {
      "text/plain": [
       "{'Grass': 3, 'Fire': 1, 'Water': 2}"
      ]
     },
     "execution_count": 36,
     "metadata": {},
     "output_type": "execute_result"
    }
   ],
   "source": [
    "type_counts = Counter(poke_types)\n",
    "dict(type_counts)"
   ]
  },
  {
   "cell_type": "markdown",
   "id": "a9a064e2-caf7-4b09-8479-2db796de52a5",
   "metadata": {},
   "source": [
    "### **Combinations with loop**"
   ]
  },
  {
   "cell_type": "code",
   "execution_count": 46,
   "id": "5686cd37-f36e-4d4a-b341-c46e39b4e87e",
   "metadata": {},
   "outputs": [
    {
     "data": {
      "text/plain": [
       "[('Bug', 'Fire'),\n",
       " ('Bug', 'Ghost'),\n",
       " ('Bug', 'Grass'),\n",
       " ('Bug', 'Water'),\n",
       " ('Fire', 'Ghost'),\n",
       " ('Fire', 'Grass'),\n",
       " ('Fire', 'Water'),\n",
       " ('Ghost', 'Grass'),\n",
       " ('Ghost', 'Water'),\n",
       " ('Grass', 'Water')]"
      ]
     },
     "execution_count": 46,
     "metadata": {},
     "output_type": "execute_result"
    }
   ],
   "source": [
    "poke_types = ['Bug', 'Fire', 'Ghost', 'Grass', 'Water']\n",
    "combos = []\n",
    "\n",
    "for i in poke_types:\n",
    "    for j in poke_types:\n",
    "        if i == j:\n",
    "            continue\n",
    "        if((i, j) not in combos) & ((j, i) not in combos):\n",
    "            combos.append((i, j))\n",
    "\n",
    "combos"
   ]
  },
  {
   "cell_type": "code",
   "execution_count": 52,
   "id": "53c0a87f-b49c-4903-a474-0b912eae3cfe",
   "metadata": {},
   "outputs": [
    {
     "data": {
      "text/plain": [
       "[('Bug', 'Fire'),\n",
       " ('Bug', 'Ghost'),\n",
       " ('Bug', 'Grass'),\n",
       " ('Bug', 'Water'),\n",
       " ('Fire', 'Ghost'),\n",
       " ('Fire', 'Grass'),\n",
       " ('Fire', 'Water'),\n",
       " ('Ghost', 'Grass'),\n",
       " ('Ghost', 'Water'),\n",
       " ('Grass', 'Water')]"
      ]
     },
     "execution_count": 52,
     "metadata": {},
     "output_type": "execute_result"
    }
   ],
   "source": [
    "poke_types = ['Bug', 'Fire', 'Ghost', 'Grass', 'Water']\n",
    "\n",
    "combos_obj = combinations(poke_types, 2)\n",
    "combos_obj = [*combos_obj]\n",
    "combos_obj"
   ]
  },
  {
   "cell_type": "code",
   "execution_count": 53,
   "id": "1975766e-a471-47eb-86d1-144f5b9379f8",
   "metadata": {},
   "outputs": [
    {
     "data": {
      "text/plain": [
       "[('Bug', 'Fire'),\n",
       " ('Bug', 'Ghost'),\n",
       " ('Bug', 'Grass'),\n",
       " ('Bug', 'Water'),\n",
       " ('Fire', 'Ghost'),\n",
       " ('Fire', 'Grass'),\n",
       " ('Fire', 'Water'),\n",
       " ('Ghost', 'Grass'),\n",
       " ('Ghost', 'Water'),\n",
       " ('Grass', 'Water')]"
      ]
     },
     "execution_count": 53,
     "metadata": {},
     "output_type": "execute_result"
    }
   ],
   "source": [
    "[*combinations(poke_types, 2)]"
   ]
  },
  {
   "cell_type": "code",
   "execution_count": null,
   "id": "43177109-0568-4e59-894c-bf24f57ac80c",
   "metadata": {},
   "outputs": [],
   "source": []
  },
  {
   "cell_type": "code",
   "execution_count": null,
   "id": "f2d29545-6b07-4d52-b241-5599ea5c8bcc",
   "metadata": {},
   "outputs": [],
   "source": []
  },
  {
   "cell_type": "code",
   "execution_count": null,
   "id": "67265360-6579-4897-b08d-11b52003e312",
   "metadata": {},
   "outputs": [],
   "source": []
  }
 ],
 "metadata": {
  "kernelspec": {
   "display_name": "Python 3 (ipykernel)",
   "language": "python",
   "name": "python3"
  },
  "language_info": {
   "codemirror_mode": {
    "name": "ipython",
    "version": 3
   },
   "file_extension": ".py",
   "mimetype": "text/x-python",
   "name": "python",
   "nbconvert_exporter": "python",
   "pygments_lexer": "ipython3",
   "version": "3.8.12"
  }
 },
 "nbformat": 4,
 "nbformat_minor": 5
}
