{
 "cells": [
  {
   "cell_type": "markdown",
   "id": "1718a335-a526-4a60-b339-092cb4aa28a6",
   "metadata": {},
   "source": [
    "## **Librerias**"
   ]
  },
  {
   "cell_type": "code",
   "execution_count": 1,
   "id": "6aed6b51-df24-4ac6-b81e-31be190231b2",
   "metadata": {},
   "outputs": [],
   "source": [
    "import pandas as pd\n",
    "import numpy as np"
   ]
  },
  {
   "cell_type": "markdown",
   "id": "3d3c0bc9-1302-47c9-8d3e-4df0400408ed",
   "metadata": {},
   "source": [
    "## **1. Foundations for efficiencies**"
   ]
  },
  {
   "cell_type": "markdown",
   "id": "8dc55901-deb6-4705-88ac-eb71165bf839",
   "metadata": {},
   "source": [
    "### **1.1 Built-ins Functions**"
   ]
  },
  {
   "cell_type": "markdown",
   "id": "98ef56b8-2f7e-480e-8bb1-6a62e1324e61",
   "metadata": {},
   "source": [
    "**range**"
   ]
  },
  {
   "cell_type": "markdown",
   "id": "f83f16c4-1428-4d17-923c-fa6f44b114a2",
   "metadata": {},
   "source": [
    "Genera secuencias"
   ]
  },
  {
   "cell_type": "code",
   "execution_count": 49,
   "id": "16c49d1a-474e-45f4-ad02-365b379c29cd",
   "metadata": {},
   "outputs": [
    {
     "data": {
      "text/plain": [
       "[0, 1, 2, 3, 4, 5, 6, 7, 8, 9]"
      ]
     },
     "execution_count": 49,
     "metadata": {},
     "output_type": "execute_result"
    }
   ],
   "source": [
    "a = [i for i in range(0, 10)]\n",
    "a"
   ]
  },
  {
   "cell_type": "markdown",
   "id": "6f56c6e2-01f1-4514-afbf-a5db316f6e6c",
   "metadata": {},
   "source": [
    "**enumerate**"
   ]
  },
  {
   "cell_type": "markdown",
   "id": "f306ce02-c903-4b09-a3e3-90ca4cc611db",
   "metadata": {},
   "source": [
    "Crea indices para un objeto iterable"
   ]
  },
  {
   "cell_type": "code",
   "execution_count": 26,
   "id": "f26dcc1d-5625-419a-941d-4c17dfb3f670",
   "metadata": {},
   "outputs": [],
   "source": [
    "letters = ['A', 'B', 'C', 'D', 'E']"
   ]
  },
  {
   "cell_type": "code",
   "execution_count": 37,
   "id": "022ea882-99ed-42b9-a466-c85e276a9737",
   "metadata": {},
   "outputs": [
    {
     "data": {
      "text/plain": [
       "{0: 'A', 1: 'B', 2: 'C', 3: 'D', 4: 'E'}"
      ]
     },
     "execution_count": 37,
     "metadata": {},
     "output_type": "execute_result"
    }
   ],
   "source": [
    "dict(enumerate(letters, start=0))"
   ]
  },
  {
   "cell_type": "markdown",
   "id": "acc182d0-fd9a-4acc-adab-5e5575edd587",
   "metadata": {},
   "source": [
    "**map**"
   ]
  },
  {
   "cell_type": "markdown",
   "id": "771f3328-e8cb-4290-9aad-62dfe068dd94",
   "metadata": {},
   "source": [
    "Aplica una función a los elementos de un objeto iterable"
   ]
  },
  {
   "cell_type": "code",
   "execution_count": 51,
   "id": "d7fdbb47-f73d-49e8-b09f-052fbe6bb0fe",
   "metadata": {},
   "outputs": [],
   "source": [
    "b = lambda x: x * 10"
   ]
  },
  {
   "cell_type": "code",
   "execution_count": 52,
   "id": "5654792d-c29a-401d-8a04-b46e169158e7",
   "metadata": {},
   "outputs": [
    {
     "data": {
      "text/plain": [
       "[0, 10, 20, 30, 40, 50, 60, 70, 80, 90]"
      ]
     },
     "execution_count": 52,
     "metadata": {},
     "output_type": "execute_result"
    }
   ],
   "source": [
    "list(map(b, a))"
   ]
  },
  {
   "cell_type": "code",
   "execution_count": 54,
   "id": "62f8dccd-c198-4ec1-ac60-1216b77ebbc5",
   "metadata": {},
   "outputs": [
    {
     "data": {
      "text/plain": [
       "[0, 2, 4, 6, 8, 10, 12, 14, 16, 18]"
      ]
     },
     "execution_count": 54,
     "metadata": {},
     "output_type": "execute_result"
    }
   ],
   "source": [
    "list(map(lambda x: x*2, a))"
   ]
  },
  {
   "cell_type": "markdown",
   "id": "18186b27-6a60-47ec-a572-3af9d4b2b9e5",
   "metadata": {},
   "source": [
    "### **1.2 The power of NumPy arrays**"
   ]
  },
  {
   "cell_type": "code",
   "execution_count": 56,
   "id": "707c5129-e78d-4a81-b632-89af9c6e1d33",
   "metadata": {},
   "outputs": [
    {
     "data": {
      "text/plain": [
       "array([ 1,  2,  3,  4,  5,  6,  7,  8,  9, 10])"
      ]
     },
     "execution_count": 56,
     "metadata": {},
     "output_type": "execute_result"
    }
   ],
   "source": [
    "nums_np = np.array(range(1, 11))\n",
    "nums_np"
   ]
  },
  {
   "cell_type": "markdown",
   "id": "b472d2e5-01a1-4747-89ab-ef4aea790fbe",
   "metadata": {},
   "source": [
    "Si queremos aplicar realizar alguna función con los elementos de nuestro array podemos aplicarla directamente "
   ]
  },
  {
   "cell_type": "code",
   "execution_count": 75,
   "id": "c59b4d9d-9b77-4f2b-b6de-c576604cdf8a",
   "metadata": {},
   "outputs": [
    {
     "data": {
      "text/plain": [
       "array([  1,   4,   9,  16,  25,  36,  49,  64,  81, 100], dtype=int32)"
      ]
     },
     "execution_count": 75,
     "metadata": {},
     "output_type": "execute_result"
    }
   ],
   "source": [
    "nums_np**2"
   ]
  },
  {
   "cell_type": "markdown",
   "id": "19a4690d-5cbe-4b71-a2a1-60e5d2657ff6",
   "metadata": {},
   "source": [
    "Podemos utilizar condicionales para definir los elemetos de un array"
   ]
  },
  {
   "cell_type": "code",
   "execution_count": 84,
   "id": "4dfef313-3ac9-4125-8e33-9da10e91076b",
   "metadata": {},
   "outputs": [
    {
     "data": {
      "text/plain": [
       "array([2, 3])"
      ]
     },
     "execution_count": 84,
     "metadata": {},
     "output_type": "execute_result"
    }
   ],
   "source": [
    "array_1 = np.array([-1, 2, 3, -4])\n",
    "array_1[(array_1>0)]"
   ]
  },
  {
   "cell_type": "markdown",
   "id": "509c9d1d-e1b7-480e-8409-05b44e29d2e1",
   "metadata": {},
   "source": [
    "## **2. Timing and profiling code**"
   ]
  },
  {
   "cell_type": "code",
   "execution_count": 2,
   "id": "e0491b68-19e5-4108-978f-220557e0ff84",
   "metadata": {},
   "outputs": [],
   "source": [
    "import line_profiler"
   ]
  },
  {
   "cell_type": "markdown",
   "id": "bc62d195-a377-4d41-a7e9-e6ff069303f5",
   "metadata": {},
   "source": [
    "### **2.1 Examining runtime**"
   ]
  },
  {
   "cell_type": "code",
   "execution_count": 9,
   "id": "6fc6845a-37c4-4c56-ad94-12bda880fc40",
   "metadata": {},
   "outputs": [
    {
     "name": "stdout",
     "output_type": "stream",
     "text": [
      "15.6 µs ± 565 ns per loop (mean ± std. dev. of 7 runs, 10000 loops each)\n"
     ]
    }
   ],
   "source": [
    "%timeit rand_nums = np.random.rand(1000)\n",
    "# rand_nums"
   ]
  },
  {
   "cell_type": "code",
   "execution_count": 19,
   "id": "80960155-74e4-45d3-bb7d-eb928782e7ce",
   "metadata": {},
   "outputs": [
    {
     "name": "stdout",
     "output_type": "stream",
     "text": [
      "1.75 s ± 201 ms per loop (mean ± std. dev. of 7 runs, 1 loop each)\n"
     ]
    }
   ],
   "source": [
    "# %%time\n",
    "%timeit rand_nums = np.random.rand(100000000)"
   ]
  },
  {
   "cell_type": "code",
   "execution_count": 8,
   "id": "746abdad-2899-4711-9917-f01bf5d5ed73",
   "metadata": {},
   "outputs": [],
   "source": [
    "def convert_units(heroes, heights, weights):\n",
    "    new_hts = [ht * 0.39370 for ht in heights]\n",
    "    new_wts = [wt * 2.40462 for wt in weights]\n",
    "    \n",
    "    hero_data = {}\n",
    "    \n",
    "    for i,hero in enumerate(heroes):\n",
    "        hero_data[hero] = (new_hts, new_wts)\n",
    "    \n",
    "    return hero_data"
   ]
  },
  {
   "cell_type": "code",
   "execution_count": 9,
   "id": "149aef26-35f1-4c94-8c9a-a33fb4c2ebd9",
   "metadata": {},
   "outputs": [],
   "source": [
    "heroes = ['Batman', 'Spiderman', 'WonderWoman']\n",
    "hts = np.array([188.0, 191.0, 183.0])\n",
    "wts = np.array([95, 101, 74])"
   ]
  },
  {
   "cell_type": "code",
   "execution_count": 10,
   "id": "4effe0c8-96b7-4b14-ace7-efc4b216ac65",
   "metadata": {},
   "outputs": [
    {
     "data": {
      "text/plain": [
       "{'Batman': ([74.01559999999999, 75.19669999999999, 72.0471],\n",
       "  [228.4389, 242.86662, 177.94188]),\n",
       " 'Spiderman': ([74.01559999999999, 75.19669999999999, 72.0471],\n",
       "  [228.4389, 242.86662, 177.94188]),\n",
       " 'WonderWoman': ([74.01559999999999, 75.19669999999999, 72.0471],\n",
       "  [228.4389, 242.86662, 177.94188])}"
      ]
     },
     "execution_count": 10,
     "metadata": {},
     "output_type": "execute_result"
    }
   ],
   "source": [
    "convert_units(heroes, hts, wts)"
   ]
  },
  {
   "cell_type": "code",
   "execution_count": 11,
   "id": "c81e55d2-257b-437f-847a-f35bb960153a",
   "metadata": {},
   "outputs": [],
   "source": [
    "%load_ext line_profiler"
   ]
  },
  {
   "cell_type": "code",
   "execution_count": 19,
   "id": "c188ff42-3e53-44f0-b7dd-29e04070aee0",
   "metadata": {},
   "outputs": [
    {
     "data": {
      "text/plain": [
       "Timer unit: 1e-07 s\n",
       "\n",
       "Total time: 0.0002118 s\n",
       "File: C:\\Users\\jmart\\AppData\\Local\\Temp/ipykernel_11380/1233246566.py\n",
       "Function: convert_units at line 1\n",
       "\n",
       "Line #      Hits         Time  Per Hit   % Time  Line Contents\n",
       "==============================================================\n",
       "     1                                           def convert_units(heroes, heights, weights):\n",
       "     2         1        473.0    473.0     22.3      new_hts = [ht * 0.39370 for ht in heights]\n",
       "     3         1       1215.0   1215.0     57.4      new_wts = [wt * 2.40462 for wt in weights]\n",
       "     4                                               \n",
       "     5         1         49.0     49.0      2.3      hero_data = {}\n",
       "     6                                               \n",
       "     7         4        196.0     49.0      9.3      for i,hero in enumerate(heroes):\n",
       "     8         3        140.0     46.7      6.6          hero_data[hero] = (new_hts, new_wts)\n",
       "     9                                               \n",
       "    10         1         45.0     45.0      2.1      return hero_data"
      ]
     },
     "metadata": {},
     "output_type": "display_data"
    }
   ],
   "source": [
    "%lprun -f convert_units convert_units(heroes, hts, wts)"
   ]
  },
  {
   "cell_type": "markdown",
   "id": "edbafe96-0845-4cde-a3d2-5c1584272c44",
   "metadata": {},
   "source": [
    "### **2.2 Examining memory usage**"
   ]
  },
  {
   "cell_type": "code",
   "execution_count": 16,
   "id": "b8c42b83-5b0e-447d-a5db-17a34b039892",
   "metadata": {},
   "outputs": [],
   "source": [
    "import sys\n",
    "import memory_profiler"
   ]
  },
  {
   "cell_type": "code",
   "execution_count": 13,
   "id": "afa4bcc4-6d1c-4b3b-a3e7-2de039158553",
   "metadata": {},
   "outputs": [
    {
     "data": {
      "text/plain": [
       "9104"
      ]
     },
     "execution_count": 13,
     "metadata": {},
     "output_type": "execute_result"
    }
   ],
   "source": [
    "nums_list = [*range(1000)]\n",
    "\n",
    "## Saber cuanto espacio de memoria ocupa\n",
    "sys.getsizeof(nums_list)"
   ]
  },
  {
   "cell_type": "code",
   "execution_count": 14,
   "id": "3ad9d2a3-8d4d-42e4-a955-eed660924115",
   "metadata": {},
   "outputs": [
    {
     "data": {
      "text/plain": [
       "4104"
      ]
     },
     "execution_count": 14,
     "metadata": {},
     "output_type": "execute_result"
    }
   ],
   "source": [
    "nums_array = np.array(range(1000))\n",
    "\n",
    "## Saber cuanto espacio de memoria ocupa\n",
    "sys.getsizeof(nums_array)"
   ]
  }
 ],
 "metadata": {
  "kernelspec": {
   "display_name": "Python 3 (ipykernel)",
   "language": "python",
   "name": "python3"
  },
  "language_info": {
   "codemirror_mode": {
    "name": "ipython",
    "version": 3
   },
   "file_extension": ".py",
   "mimetype": "text/x-python",
   "name": "python",
   "nbconvert_exporter": "python",
   "pygments_lexer": "ipython3",
   "version": "3.8.12"
  }
 },
 "nbformat": 4,
 "nbformat_minor": 5
}
