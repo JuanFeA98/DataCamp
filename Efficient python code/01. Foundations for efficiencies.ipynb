{
 "cells": [
  {
   "cell_type": "markdown",
   "id": "1718a335-a526-4a60-b339-092cb4aa28a6",
   "metadata": {},
   "source": [
    "## Librerias"
   ]
  },
  {
   "cell_type": "code",
   "execution_count": 1,
   "id": "6aed6b51-df24-4ac6-b81e-31be190231b2",
   "metadata": {},
   "outputs": [],
   "source": [
    "import pandas as pd\n",
    "import numpy as np"
   ]
  },
  {
   "cell_type": "markdown",
   "id": "3d3c0bc9-1302-47c9-8d3e-4df0400408ed",
   "metadata": {},
   "source": [
    "## **1. Foundations for efficiencies**"
   ]
  },
  {
   "cell_type": "markdown",
   "id": "8dc55901-deb6-4705-88ac-eb71165bf839",
   "metadata": {},
   "source": [
    "### **1.1 Built-ins Functions**"
   ]
  },
  {
   "cell_type": "markdown",
   "id": "98ef56b8-2f7e-480e-8bb1-6a62e1324e61",
   "metadata": {},
   "source": [
    "**range**"
   ]
  },
  {
   "cell_type": "markdown",
   "id": "f83f16c4-1428-4d17-923c-fa6f44b114a2",
   "metadata": {},
   "source": [
    "Genera secuencias"
   ]
  },
  {
   "cell_type": "code",
   "execution_count": 49,
   "id": "16c49d1a-474e-45f4-ad02-365b379c29cd",
   "metadata": {},
   "outputs": [
    {
     "data": {
      "text/plain": [
       "[0, 1, 2, 3, 4, 5, 6, 7, 8, 9]"
      ]
     },
     "execution_count": 49,
     "metadata": {},
     "output_type": "execute_result"
    }
   ],
   "source": [
    "a = [i for i in range(0, 10)]\n",
    "a"
   ]
  },
  {
   "cell_type": "code",
   "execution_count": 26,
   "id": "f26dcc1d-5625-419a-941d-4c17dfb3f670",
   "metadata": {},
   "outputs": [],
   "source": [
    "letters = ['A', 'B', 'C', 'D', 'E']"
   ]
  },
  {
   "cell_type": "markdown",
   "id": "6f56c6e2-01f1-4514-afbf-a5db316f6e6c",
   "metadata": {},
   "source": [
    "**enumerate**"
   ]
  },
  {
   "cell_type": "markdown",
   "id": "f306ce02-c903-4b09-a3e3-90ca4cc611db",
   "metadata": {},
   "source": [
    "Crea indices para un objeto iterable"
   ]
  },
  {
   "cell_type": "code",
   "execution_count": 37,
   "id": "022ea882-99ed-42b9-a466-c85e276a9737",
   "metadata": {},
   "outputs": [
    {
     "data": {
      "text/plain": [
       "{0: 'A', 1: 'B', 2: 'C', 3: 'D', 4: 'E'}"
      ]
     },
     "execution_count": 37,
     "metadata": {},
     "output_type": "execute_result"
    }
   ],
   "source": [
    "dict(enumerate(letters, start=0))"
   ]
  },
  {
   "cell_type": "markdown",
   "id": "acc182d0-fd9a-4acc-adab-5e5575edd587",
   "metadata": {},
   "source": [
    "**map**"
   ]
  },
  {
   "cell_type": "markdown",
   "id": "771f3328-e8cb-4290-9aad-62dfe068dd94",
   "metadata": {},
   "source": [
    "Aplica una función a los elementos de un objeto iterable"
   ]
  },
  {
   "cell_type": "code",
   "execution_count": 51,
   "id": "d7fdbb47-f73d-49e8-b09f-052fbe6bb0fe",
   "metadata": {},
   "outputs": [],
   "source": [
    "b = lambda x: x * 10"
   ]
  },
  {
   "cell_type": "code",
   "execution_count": 52,
   "id": "5654792d-c29a-401d-8a04-b46e169158e7",
   "metadata": {},
   "outputs": [
    {
     "data": {
      "text/plain": [
       "[0, 10, 20, 30, 40, 50, 60, 70, 80, 90]"
      ]
     },
     "execution_count": 52,
     "metadata": {},
     "output_type": "execute_result"
    }
   ],
   "source": [
    "list(map(b, a))"
   ]
  },
  {
   "cell_type": "code",
   "execution_count": 54,
   "id": "62f8dccd-c198-4ec1-ac60-1216b77ebbc5",
   "metadata": {},
   "outputs": [
    {
     "data": {
      "text/plain": [
       "[0, 2, 4, 6, 8, 10, 12, 14, 16, 18]"
      ]
     },
     "execution_count": 54,
     "metadata": {},
     "output_type": "execute_result"
    }
   ],
   "source": [
    "list(map(lambda x: x*2, a))"
   ]
  },
  {
   "cell_type": "markdown",
   "id": "18186b27-6a60-47ec-a572-3af9d4b2b9e5",
   "metadata": {},
   "source": [
    "### **1.2 The power of NumPy arrays**"
   ]
  },
  {
   "cell_type": "code",
   "execution_count": 56,
   "id": "707c5129-e78d-4a81-b632-89af9c6e1d33",
   "metadata": {},
   "outputs": [
    {
     "data": {
      "text/plain": [
       "array([ 1,  2,  3,  4,  5,  6,  7,  8,  9, 10])"
      ]
     },
     "execution_count": 56,
     "metadata": {},
     "output_type": "execute_result"
    }
   ],
   "source": [
    "nums_np = np.array(range(1, 11))\n",
    "nums_np"
   ]
  },
  {
   "cell_type": "markdown",
   "id": "b472d2e5-01a1-4747-89ab-ef4aea790fbe",
   "metadata": {},
   "source": [
    "Si queremos aplicar realizar alguna función con los elementos de nuestro array podemos aplicarla directamente "
   ]
  },
  {
   "cell_type": "code",
   "execution_count": 75,
   "id": "c59b4d9d-9b77-4f2b-b6de-c576604cdf8a",
   "metadata": {},
   "outputs": [
    {
     "data": {
      "text/plain": [
       "array([  1,   4,   9,  16,  25,  36,  49,  64,  81, 100], dtype=int32)"
      ]
     },
     "execution_count": 75,
     "metadata": {},
     "output_type": "execute_result"
    }
   ],
   "source": [
    "nums_np**2"
   ]
  },
  {
   "cell_type": "markdown",
   "id": "19a4690d-5cbe-4b71-a2a1-60e5d2657ff6",
   "metadata": {},
   "source": [
    "Podemos utilizar condicionales para definir los elemetos de un array"
   ]
  },
  {
   "cell_type": "code",
   "execution_count": 84,
   "id": "4dfef313-3ac9-4125-8e33-9da10e91076b",
   "metadata": {},
   "outputs": [
    {
     "data": {
      "text/plain": [
       "array([2, 3])"
      ]
     },
     "execution_count": 84,
     "metadata": {},
     "output_type": "execute_result"
    }
   ],
   "source": [
    "array_1 = np.array([-1, 2, 3, -4])\n",
    "array_1[(array_1>0)]"
   ]
  },
  {
   "cell_type": "markdown",
   "id": "509c9d1d-e1b7-480e-8409-05b44e29d2e1",
   "metadata": {},
   "source": [
    "## **2. Timing and profiling code**"
   ]
  },
  {
   "cell_type": "markdown",
   "id": "bc62d195-a377-4d41-a7e9-e6ff069303f5",
   "metadata": {},
   "source": [
    "### **2.1 Examining runtime**"
   ]
  },
  {
   "cell_type": "code",
   "execution_count": 9,
   "id": "6fc6845a-37c4-4c56-ad94-12bda880fc40",
   "metadata": {},
   "outputs": [
    {
     "name": "stdout",
     "output_type": "stream",
     "text": [
      "15.6 µs ± 565 ns per loop (mean ± std. dev. of 7 runs, 10000 loops each)\n"
     ]
    }
   ],
   "source": [
    "%timeit rand_nums = np.random.rand(1000)\n",
    "# rand_nums"
   ]
  },
  {
   "cell_type": "code",
   "execution_count": 19,
   "id": "80960155-74e4-45d3-bb7d-eb928782e7ce",
   "metadata": {},
   "outputs": [
    {
     "name": "stdout",
     "output_type": "stream",
     "text": [
      "1.75 s ± 201 ms per loop (mean ± std. dev. of 7 runs, 1 loop each)\n"
     ]
    }
   ],
   "source": [
    "# %%time\n",
    "%timeit rand_nums = np.random.rand(100000000)"
   ]
  },
  {
   "cell_type": "code",
   "execution_count": null,
   "id": "746abdad-2899-4711-9917-f01bf5d5ed73",
   "metadata": {},
   "outputs": [],
   "source": []
  },
  {
   "cell_type": "code",
   "execution_count": null,
   "id": "086cdeec-6b1c-4fea-a31b-d2d7280f1637",
   "metadata": {},
   "outputs": [],
   "source": []
  },
  {
   "cell_type": "code",
   "execution_count": null,
   "id": "149aef26-35f1-4c94-8c9a-a33fb4c2ebd9",
   "metadata": {},
   "outputs": [],
   "source": []
  }
 ],
 "metadata": {
  "kernelspec": {
   "display_name": "Python 3 (ipykernel)",
   "language": "python",
   "name": "python3"
  },
  "language_info": {
   "codemirror_mode": {
    "name": "ipython",
    "version": 3
   },
   "file_extension": ".py",
   "mimetype": "text/x-python",
   "name": "python",
   "nbconvert_exporter": "python",
   "pygments_lexer": "ipython3",
   "version": "3.8.12"
  }
 },
 "nbformat": 4,
 "nbformat_minor": 5
}
