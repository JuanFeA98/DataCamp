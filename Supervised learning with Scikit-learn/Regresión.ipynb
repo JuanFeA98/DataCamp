{
 "cells": [
  {
   "cell_type": "markdown",
   "id": "616c1a8e-3ef0-427b-af48-0a2abb717713",
   "metadata": {},
   "source": [
    "# **Regresión**"
   ]
  },
  {
   "cell_type": "markdown",
   "id": "b197c437-b73b-4cc0-950b-e6c7dec9c60f",
   "metadata": {},
   "source": [
    "## **Librerias**"
   ]
  },
  {
   "cell_type": "code",
   "execution_count": 1,
   "id": "ede75acc-f9d6-45a7-9085-c3e7e35f4fdd",
   "metadata": {},
   "outputs": [],
   "source": [
    "import pandas as pd\n",
    "import numpy as np\n",
    "import matplotlib.pyplot as plt\n",
    "import seaborn as sns"
   ]
  },
  {
   "cell_type": "code",
   "execution_count": 2,
   "id": "b9f62653-f079-47dd-b10a-34293a5be459",
   "metadata": {},
   "outputs": [],
   "source": [
    "pd.options.display.max_columns = False"
   ]
  },
  {
   "cell_type": "code",
   "execution_count": 17,
   "id": "6c294de6-f31e-4062-b82f-6b62643f32f3",
   "metadata": {},
   "outputs": [],
   "source": [
    "from sklearn.model_selection import train_test_split"
   ]
  },
  {
   "cell_type": "code",
   "execution_count": 23,
   "id": "4ecbb274-43e5-4c8e-aa22-9a5a795e32d1",
   "metadata": {},
   "outputs": [],
   "source": [
    "from sklearn.linear_model import LinearRegression"
   ]
  },
  {
   "cell_type": "markdown",
   "id": "5b905be1-8e46-4e35-a8db-6a75d65d88da",
   "metadata": {},
   "source": [
    "## **Datos**"
   ]
  },
  {
   "cell_type": "code",
   "execution_count": 11,
   "id": "9a0db2b8-c84f-4ee1-86a5-ce1a661e7845",
   "metadata": {},
   "outputs": [],
   "source": [
    "df = pd.read_csv('Datos/housing.csv')"
   ]
  },
  {
   "cell_type": "code",
   "execution_count": 31,
   "id": "30f7a23f-1222-4bd9-8b84-96c3080b28a9",
   "metadata": {},
   "outputs": [],
   "source": [
    "wf = df.dropna()"
   ]
  },
  {
   "cell_type": "code",
   "execution_count": 32,
   "id": "e6758806-55f7-4376-9e92-ff8c5554c525",
   "metadata": {},
   "outputs": [],
   "source": [
    "X = wf.drop('MEDV', axis=1)\n",
    "y = wf['MEDV']"
   ]
  },
  {
   "cell_type": "code",
   "execution_count": 33,
   "id": "3b7ddf85-4748-44d0-83a4-7d32514a45f9",
   "metadata": {},
   "outputs": [],
   "source": [
    "X_train, X_test, y_train, y_test = train_test_split(X, y, test_size=0.2, random_state=13)"
   ]
  },
  {
   "cell_type": "code",
   "execution_count": 34,
   "id": "9d407b5c-4d22-4285-8067-414ead558885",
   "metadata": {},
   "outputs": [
    {
     "data": {
      "text/plain": [
       "LinearRegression()"
      ]
     },
     "execution_count": 34,
     "metadata": {},
     "output_type": "execute_result"
    }
   ],
   "source": [
    "model = LinearRegression()\n",
    "model.fit(X_train, y_train)"
   ]
  },
  {
   "cell_type": "code",
   "execution_count": 35,
   "id": "15126459-6e93-4667-bc9b-15b3d231dae2",
   "metadata": {},
   "outputs": [],
   "source": [
    "y_pred = model.predict(X_test)"
   ]
  },
  {
   "cell_type": "code",
   "execution_count": 38,
   "id": "9935abe3-ef19-4cf3-b940-fe0ca7b97571",
   "metadata": {},
   "outputs": [
    {
     "name": "stdout",
     "output_type": "stream",
     "text": [
      "La presición del modelo es de: 84.0%\n"
     ]
    }
   ],
   "source": [
    "print(f'La presición del modelo es de: {round(model.score(X_test, y_test),2)*100}%')"
   ]
  }
 ],
 "metadata": {
  "kernelspec": {
   "display_name": "Python 3 (ipykernel)",
   "language": "python",
   "name": "python3"
  },
  "language_info": {
   "codemirror_mode": {
    "name": "ipython",
    "version": 3
   },
   "file_extension": ".py",
   "mimetype": "text/x-python",
   "name": "python",
   "nbconvert_exporter": "python",
   "pygments_lexer": "ipython3",
   "version": "3.8.12"
  }
 },
 "nbformat": 4,
 "nbformat_minor": 5
}
