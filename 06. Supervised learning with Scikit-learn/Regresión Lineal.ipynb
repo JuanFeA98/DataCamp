{
 "cells": [
  {
   "cell_type": "markdown",
   "id": "616c1a8e-3ef0-427b-af48-0a2abb717713",
   "metadata": {},
   "source": [
    "# **Regresión**"
   ]
  },
  {
   "cell_type": "markdown",
   "id": "b197c437-b73b-4cc0-950b-e6c7dec9c60f",
   "metadata": {},
   "source": [
    "## **Librerias**"
   ]
  },
  {
   "cell_type": "code",
   "execution_count": 1,
   "id": "ede75acc-f9d6-45a7-9085-c3e7e35f4fdd",
   "metadata": {},
   "outputs": [],
   "source": [
    "import pandas as pd\n",
    "import numpy as np\n",
    "import matplotlib.pyplot as plt\n",
    "import seaborn as sns"
   ]
  },
  {
   "cell_type": "code",
   "execution_count": 2,
   "id": "b9f62653-f079-47dd-b10a-34293a5be459",
   "metadata": {},
   "outputs": [],
   "source": [
    "pd.options.display.max_columns = False"
   ]
  },
  {
   "cell_type": "code",
   "execution_count": 3,
   "id": "6c294de6-f31e-4062-b82f-6b62643f32f3",
   "metadata": {},
   "outputs": [],
   "source": [
    "from sklearn.model_selection import train_test_split, cross_val_score"
   ]
  },
  {
   "cell_type": "code",
   "execution_count": 4,
   "id": "4ecbb274-43e5-4c8e-aa22-9a5a795e32d1",
   "metadata": {},
   "outputs": [],
   "source": [
    "from sklearn.linear_model import LinearRegression, Ridge, Lasso"
   ]
  },
  {
   "cell_type": "markdown",
   "id": "5b905be1-8e46-4e35-a8db-6a75d65d88da",
   "metadata": {},
   "source": [
    "## **Datos**"
   ]
  },
  {
   "cell_type": "code",
   "execution_count": 5,
   "id": "9a0db2b8-c84f-4ee1-86a5-ce1a661e7845",
   "metadata": {},
   "outputs": [],
   "source": [
    "df = pd.read_csv('Datos/housing.csv')"
   ]
  },
  {
   "cell_type": "code",
   "execution_count": 6,
   "id": "30f7a23f-1222-4bd9-8b84-96c3080b28a9",
   "metadata": {},
   "outputs": [],
   "source": [
    "wf = df.dropna()"
   ]
  },
  {
   "cell_type": "code",
   "execution_count": 7,
   "id": "e6758806-55f7-4376-9e92-ff8c5554c525",
   "metadata": {},
   "outputs": [],
   "source": [
    "X = wf.drop('MEDV', axis=1)\n",
    "y = wf['MEDV']"
   ]
  },
  {
   "cell_type": "code",
   "execution_count": 8,
   "id": "3b7ddf85-4748-44d0-83a4-7d32514a45f9",
   "metadata": {},
   "outputs": [],
   "source": [
    "X_train, X_test, y_train, y_test = train_test_split(X, y, test_size=0.2, random_state=13)"
   ]
  },
  {
   "cell_type": "markdown",
   "id": "84294717-467d-4c73-b6f4-6d2069e910e0",
   "metadata": {},
   "source": [
    "## **Regresión Lineal**"
   ]
  },
  {
   "cell_type": "code",
   "execution_count": 9,
   "id": "9d407b5c-4d22-4285-8067-414ead558885",
   "metadata": {},
   "outputs": [
    {
     "data": {
      "text/plain": [
       "LinearRegression()"
      ]
     },
     "execution_count": 9,
     "metadata": {},
     "output_type": "execute_result"
    }
   ],
   "source": [
    "regLin = LinearRegression()\n",
    "regLin.fit(X_train, y_train)"
   ]
  },
  {
   "cell_type": "code",
   "execution_count": 10,
   "id": "15126459-6e93-4667-bc9b-15b3d231dae2",
   "metadata": {},
   "outputs": [],
   "source": [
    "y_pred = regLin.predict(X_test)"
   ]
  },
  {
   "cell_type": "code",
   "execution_count": 11,
   "id": "9935abe3-ef19-4cf3-b940-fe0ca7b97571",
   "metadata": {},
   "outputs": [
    {
     "name": "stdout",
     "output_type": "stream",
     "text": [
      "La presición del modelo es de: 84.0%\n"
     ]
    }
   ],
   "source": [
    "print(f'La presición del modelo es de: {round(regLin.score(X_test, y_test),2)*100}%')"
   ]
  },
  {
   "cell_type": "markdown",
   "id": "9fdecb6b-46e9-448c-bcaa-e44b93e87bfd",
   "metadata": {},
   "source": [
    "## **Cross Validation**"
   ]
  },
  {
   "cell_type": "code",
   "execution_count": 12,
   "id": "71360af2-b17c-47e6-b67d-4b3f088e07e2",
   "metadata": {},
   "outputs": [],
   "source": [
    "cv_results = cross_val_score(regLin, X, y, cv=5)"
   ]
  },
  {
   "cell_type": "code",
   "execution_count": 13,
   "id": "49c1557b-488a-4886-8103-ec221986d35c",
   "metadata": {},
   "outputs": [
    {
     "data": {
      "text/plain": [
       "(0.3839530761206411, 0.5857182044566904)"
      ]
     },
     "execution_count": 13,
     "metadata": {},
     "output_type": "execute_result"
    }
   ],
   "source": [
    "np.mean(cv_results), np.median(cv_results)"
   ]
  },
  {
   "cell_type": "markdown",
   "id": "cc02353f-cf4c-4b23-8b1b-23951e505a29",
   "metadata": {},
   "source": [
    "## **Ridge Regression**"
   ]
  },
  {
   "cell_type": "code",
   "execution_count": 14,
   "id": "97566bfc-f980-41f0-9e1d-ad61d32cf6df",
   "metadata": {},
   "outputs": [],
   "source": [
    "regRidge = Ridge(alpha=0.1)"
   ]
  },
  {
   "cell_type": "code",
   "execution_count": 15,
   "id": "b78b608c-3cd8-40d6-ae20-96e48ddcac28",
   "metadata": {},
   "outputs": [
    {
     "data": {
      "text/plain": [
       "Ridge(alpha=0.1)"
      ]
     },
     "execution_count": 15,
     "metadata": {},
     "output_type": "execute_result"
    }
   ],
   "source": [
    "regRidge.fit(X_train, y_train)"
   ]
  },
  {
   "cell_type": "code",
   "execution_count": 16,
   "id": "42aa3cec-6213-4c16-a392-2c7a5b88c2dc",
   "metadata": {},
   "outputs": [],
   "source": [
    "ridgePred = regRidge.predict(X_test)"
   ]
  },
  {
   "cell_type": "code",
   "execution_count": 17,
   "id": "adceac03-4f64-4d0d-854b-2d7a2a650aa0",
   "metadata": {},
   "outputs": [
    {
     "data": {
      "text/plain": [
       "0.8436705452472808"
      ]
     },
     "execution_count": 17,
     "metadata": {},
     "output_type": "execute_result"
    }
   ],
   "source": [
    "regRidge.score(X_test, y_test)"
   ]
  },
  {
   "cell_type": "markdown",
   "id": "6bdc0e48-e48a-4b09-b714-685e042ff81a",
   "metadata": {},
   "source": [
    "## **Lasso Regression**"
   ]
  },
  {
   "cell_type": "code",
   "execution_count": 18,
   "id": "1bea7250-3711-4858-ab8f-2872575b9223",
   "metadata": {},
   "outputs": [],
   "source": [
    "regLasso = Lasso(alpha=0.1)"
   ]
  },
  {
   "cell_type": "code",
   "execution_count": 19,
   "id": "5cb293cf-678a-4374-bd99-92d4873d788a",
   "metadata": {},
   "outputs": [
    {
     "data": {
      "text/plain": [
       "Lasso(alpha=0.1)"
      ]
     },
     "execution_count": 19,
     "metadata": {},
     "output_type": "execute_result"
    }
   ],
   "source": [
    "regLasso.fit(X_train, y_train)"
   ]
  },
  {
   "cell_type": "code",
   "execution_count": 20,
   "id": "4c036297-2686-49b8-be4f-8b9a91b4c5db",
   "metadata": {},
   "outputs": [],
   "source": [
    "lassoPred = regLasso.predict(X_test)"
   ]
  },
  {
   "cell_type": "code",
   "execution_count": 21,
   "id": "89bce4cd-bdde-4a35-acd6-5731ee10c99f",
   "metadata": {},
   "outputs": [
    {
     "data": {
      "text/plain": [
       "0.8350194361647676"
      ]
     },
     "execution_count": 21,
     "metadata": {},
     "output_type": "execute_result"
    }
   ],
   "source": [
    "regLasso.score(X_test, y_test)"
   ]
  },
  {
   "cell_type": "code",
   "execution_count": 22,
   "id": "a8416843-c3b5-4d7b-869d-f35421704a36",
   "metadata": {},
   "outputs": [],
   "source": [
    "names = X.columns"
   ]
  },
  {
   "cell_type": "code",
   "execution_count": 45,
   "id": "6305c7c5-20bc-4422-90a6-baa0729da2bc",
   "metadata": {},
   "outputs": [
    {
     "data": {
      "text/html": [
       "<div>\n",
       "<style scoped>\n",
       "    .dataframe tbody tr th:only-of-type {\n",
       "        vertical-align: middle;\n",
       "    }\n",
       "\n",
       "    .dataframe tbody tr th {\n",
       "        vertical-align: top;\n",
       "    }\n",
       "\n",
       "    .dataframe thead th {\n",
       "        text-align: right;\n",
       "    }\n",
       "</style>\n",
       "<table border=\"1\" class=\"dataframe\">\n",
       "  <thead>\n",
       "    <tr style=\"text-align: right;\">\n",
       "      <th></th>\n",
       "      <th>Variable</th>\n",
       "      <th>Coeficiente</th>\n",
       "    </tr>\n",
       "  </thead>\n",
       "  <tbody>\n",
       "    <tr>\n",
       "      <th>0</th>\n",
       "      <td>CRIM</td>\n",
       "      <td>-0.097750</td>\n",
       "    </tr>\n",
       "    <tr>\n",
       "      <th>1</th>\n",
       "      <td>ZN</td>\n",
       "      <td>0.059489</td>\n",
       "    </tr>\n",
       "    <tr>\n",
       "      <th>2</th>\n",
       "      <td>INDUS</td>\n",
       "      <td>-0.039976</td>\n",
       "    </tr>\n",
       "    <tr>\n",
       "      <th>3</th>\n",
       "      <td>CHAS</td>\n",
       "      <td>1.675928</td>\n",
       "    </tr>\n",
       "    <tr>\n",
       "      <th>4</th>\n",
       "      <td>NOX</td>\n",
       "      <td>-0.000000</td>\n",
       "    </tr>\n",
       "    <tr>\n",
       "      <th>5</th>\n",
       "      <td>RM</td>\n",
       "      <td>3.667858</td>\n",
       "    </tr>\n",
       "    <tr>\n",
       "      <th>6</th>\n",
       "      <td>AGE</td>\n",
       "      <td>-0.021209</td>\n",
       "    </tr>\n",
       "    <tr>\n",
       "      <th>7</th>\n",
       "      <td>DIS</td>\n",
       "      <td>-1.226414</td>\n",
       "    </tr>\n",
       "    <tr>\n",
       "      <th>8</th>\n",
       "      <td>RAD</td>\n",
       "      <td>0.243828</td>\n",
       "    </tr>\n",
       "    <tr>\n",
       "      <th>9</th>\n",
       "      <td>TAX</td>\n",
       "      <td>-0.016231</td>\n",
       "    </tr>\n",
       "    <tr>\n",
       "      <th>10</th>\n",
       "      <td>PTRATIO</td>\n",
       "      <td>-0.775075</td>\n",
       "    </tr>\n",
       "    <tr>\n",
       "      <th>11</th>\n",
       "      <td>B</td>\n",
       "      <td>0.009883</td>\n",
       "    </tr>\n",
       "    <tr>\n",
       "      <th>12</th>\n",
       "      <td>LSTAT</td>\n",
       "      <td>-0.459886</td>\n",
       "    </tr>\n",
       "  </tbody>\n",
       "</table>\n",
       "</div>"
      ],
      "text/plain": [
       "   Variable  Coeficiente\n",
       "0      CRIM    -0.097750\n",
       "1        ZN     0.059489\n",
       "2     INDUS    -0.039976\n",
       "3      CHAS     1.675928\n",
       "4       NOX    -0.000000\n",
       "5        RM     3.667858\n",
       "6       AGE    -0.021209\n",
       "7       DIS    -1.226414\n",
       "8       RAD     0.243828\n",
       "9       TAX    -0.016231\n",
       "10  PTRATIO    -0.775075\n",
       "11        B     0.009883\n",
       "12    LSTAT    -0.459886"
      ]
     },
     "execution_count": 45,
     "metadata": {},
     "output_type": "execute_result"
    }
   ],
   "source": [
    "coefs = pd.DataFrame(regLasso.coef_, names).reset_index()\n",
    "coefs.columns = ['Variable', 'Coeficiente']\n",
    "coefs"
   ]
  },
  {
   "cell_type": "code",
   "execution_count": 36,
   "id": "f017e225-f5f6-4b24-8f6d-fde35d768278",
   "metadata": {},
   "outputs": [
    {
     "data": {
      "image/png": "[encoded data removed]",
      "text/plain": [
       "<Figure size 1008x288 with 1 Axes>"
      ]
     },
     "metadata": {},
     "output_type": "display_data"
    }
   ],
   "source": [
    "fig, ax = plt.subplots(figsize=(14, 4))\n",
    "fig.patch.set_facecolor('#21252b')\n",
    "\n",
    "ax.set_facecolor('#282c34')\n",
    "\n",
    "plt.plot(range(len(names)), regLasso.coef_)\n",
    "plt.scatter(range(len(names)), regLasso.coef_)\n",
    "\n",
    "plt.xticks(range(len(names)), names, color='white')\n",
    "plt.yticks(color='white')\n",
    "\n",
    "plt.ylabel('Coeficientes', color='white')\n",
    "\n",
    "ax.tick_params(axis='x', labelcolor='white', color='white')\n",
    "ax.tick_params(axis='y', labelcolor='white', color='white')\n",
    "\n",
    "plt.show()"
   ]
  }
 ],
 "metadata": {
  "kernelspec": {
   "display_name": "Python 3 (ipykernel)",
   "language": "python",
   "name": "python3"
  },
  "language_info": {
   "codemirror_mode": {
    "name": "ipython",
    "version": 3
   },
   "file_extension": ".py",
   "mimetype": "text/x-python",
   "name": "python",
   "nbconvert_exporter": "python",
   "pygments_lexer": "ipython3",
   "version": "3.8.12"
  }
 },
 "nbformat": 4,
 "nbformat_minor": 5
}
